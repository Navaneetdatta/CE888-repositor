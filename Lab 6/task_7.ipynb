{
  "nbformat": 4,
  "nbformat_minor": 0,
  "metadata": {
    "colab": {
      "name": "Copy of Lab_6_task_7.ipynb",
      "provenance": [],
      "include_colab_link": true
    },
    "kernelspec": {
      "name": "python3",
      "display_name": "Python 3"
    }
  },
  "cells": [
    {
      "cell_type": "markdown",
      "metadata": {
        "id": "view-in-github",
        "colab_type": "text"
      },
      "source": [
        "<a href=\"https://colab.research.google.com/github/Navaneetdatta/CE888-repositor/blob/main/Lab%206/task_7.ipynb\" target=\"_parent\"><img src=\"https://colab.research.google.com/assets/colab-badge.svg\" alt=\"Open In Colab\"/></a>"
      ]
    },
    {
      "cell_type": "code",
      "metadata": {
        "id": "U6H_el3a1G57"
      },
      "source": [
        "import numpy as np\n",
        "import pandas as pd\n",
        "import matplotlib.pyplot as plt \n",
        "from sklearn import cluster, datasets, metrics\n",
        "from sklearn.decomposition import PCA\n",
        "from sklearn.preprocessing import StandardScaler\n",
        "import seaborn as sns"
      ],
      "execution_count": null,
      "outputs": []
    },
    {
      "cell_type": "code",
      "metadata": {
        "id": "V3cmMcI71VMq"
      },
      "source": [
        "df_country = pd.read_csv('https://raw.githubusercontent.com/sagihaider/CE888_2021/main/Lab_6/Data/Country-data.csv')\n",
        "df_dictionary = pd.read_csv('https://raw.githubusercontent.com/sagihaider/CE888_2021/main/Lab_6/Data/data-dictionary.csv')"
      ],
      "execution_count": null,
      "outputs": []
    },
    {
      "cell_type": "code",
      "metadata": {
        "colab": {
          "base_uri": "https://localhost:8080/",
          "height": 363
        },
        "id": "vh6Ie4g01l-K",
        "outputId": "2a5efd5f-e12f-4589-a769-596d2bdf59e8"
      },
      "source": [
        "df_dictionary"
      ],
      "execution_count": null,
      "outputs": [
        {
          "output_type": "execute_result",
          "data": {
            "text/html": [
              "<div>\n",
              "<style scoped>\n",
              "    .dataframe tbody tr th:only-of-type {\n",
              "        vertical-align: middle;\n",
              "    }\n",
              "\n",
              "    .dataframe tbody tr th {\n",
              "        vertical-align: top;\n",
              "    }\n",
              "\n",
              "    .dataframe thead th {\n",
              "        text-align: right;\n",
              "    }\n",
              "</style>\n",
              "<table border=\"1\" class=\"dataframe\">\n",
              "  <thead>\n",
              "    <tr style=\"text-align: right;\">\n",
              "      <th></th>\n",
              "      <th>Column Name</th>\n",
              "      <th>Description</th>\n",
              "    </tr>\n",
              "  </thead>\n",
              "  <tbody>\n",
              "    <tr>\n",
              "      <th>0</th>\n",
              "      <td>country</td>\n",
              "      <td>Name of the country</td>\n",
              "    </tr>\n",
              "    <tr>\n",
              "      <th>1</th>\n",
              "      <td>child_mort</td>\n",
              "      <td>Death of children under 5 years of age per 100...</td>\n",
              "    </tr>\n",
              "    <tr>\n",
              "      <th>2</th>\n",
              "      <td>exports</td>\n",
              "      <td>Exports of goods and services per capita. Give...</td>\n",
              "    </tr>\n",
              "    <tr>\n",
              "      <th>3</th>\n",
              "      <td>health</td>\n",
              "      <td>Total health spending per capita. Given as %ag...</td>\n",
              "    </tr>\n",
              "    <tr>\n",
              "      <th>4</th>\n",
              "      <td>imports</td>\n",
              "      <td>Imports of goods and services per capita. Give...</td>\n",
              "    </tr>\n",
              "    <tr>\n",
              "      <th>5</th>\n",
              "      <td>Income</td>\n",
              "      <td>Net income per person</td>\n",
              "    </tr>\n",
              "    <tr>\n",
              "      <th>6</th>\n",
              "      <td>Inflation</td>\n",
              "      <td>The measurement of the annual growth rate of t...</td>\n",
              "    </tr>\n",
              "    <tr>\n",
              "      <th>7</th>\n",
              "      <td>life_expec</td>\n",
              "      <td>The average number of years a new born child w...</td>\n",
              "    </tr>\n",
              "    <tr>\n",
              "      <th>8</th>\n",
              "      <td>total_fer</td>\n",
              "      <td>The number of children that would be born to e...</td>\n",
              "    </tr>\n",
              "    <tr>\n",
              "      <th>9</th>\n",
              "      <td>gdpp</td>\n",
              "      <td>The GDP per capita. Calculated as the Total GD...</td>\n",
              "    </tr>\n",
              "  </tbody>\n",
              "</table>\n",
              "</div>"
            ],
            "text/plain": [
              "  Column Name                                        Description\n",
              "0     country                                Name of the country\n",
              "1  child_mort  Death of children under 5 years of age per 100...\n",
              "2     exports  Exports of goods and services per capita. Give...\n",
              "3      health  Total health spending per capita. Given as %ag...\n",
              "4     imports  Imports of goods and services per capita. Give...\n",
              "5      Income                              Net income per person\n",
              "6   Inflation  The measurement of the annual growth rate of t...\n",
              "7  life_expec  The average number of years a new born child w...\n",
              "8   total_fer  The number of children that would be born to e...\n",
              "9        gdpp  The GDP per capita. Calculated as the Total GD..."
            ]
          },
          "metadata": {
            "tags": []
          },
          "execution_count": 3
        }
      ]
    },
    {
      "cell_type": "code",
      "metadata": {
        "colab": {
          "base_uri": "https://localhost:8080/",
          "height": 206
        },
        "id": "NLOvmKyw1sQP",
        "outputId": "e52a6113-0773-4c48-8169-34d8b40a908a"
      },
      "source": [
        "df_country.head()"
      ],
      "execution_count": null,
      "outputs": [
        {
          "output_type": "execute_result",
          "data": {
            "text/html": [
              "<div>\n",
              "<style scoped>\n",
              "    .dataframe tbody tr th:only-of-type {\n",
              "        vertical-align: middle;\n",
              "    }\n",
              "\n",
              "    .dataframe tbody tr th {\n",
              "        vertical-align: top;\n",
              "    }\n",
              "\n",
              "    .dataframe thead th {\n",
              "        text-align: right;\n",
              "    }\n",
              "</style>\n",
              "<table border=\"1\" class=\"dataframe\">\n",
              "  <thead>\n",
              "    <tr style=\"text-align: right;\">\n",
              "      <th></th>\n",
              "      <th>country</th>\n",
              "      <th>child_mort</th>\n",
              "      <th>exports</th>\n",
              "      <th>health</th>\n",
              "      <th>imports</th>\n",
              "      <th>income</th>\n",
              "      <th>inflation</th>\n",
              "      <th>life_expec</th>\n",
              "      <th>total_fer</th>\n",
              "      <th>gdpp</th>\n",
              "    </tr>\n",
              "  </thead>\n",
              "  <tbody>\n",
              "    <tr>\n",
              "      <th>0</th>\n",
              "      <td>Afghanistan</td>\n",
              "      <td>90.2</td>\n",
              "      <td>10.0</td>\n",
              "      <td>7.58</td>\n",
              "      <td>44.9</td>\n",
              "      <td>1610</td>\n",
              "      <td>9.44</td>\n",
              "      <td>56.2</td>\n",
              "      <td>5.82</td>\n",
              "      <td>553</td>\n",
              "    </tr>\n",
              "    <tr>\n",
              "      <th>1</th>\n",
              "      <td>Albania</td>\n",
              "      <td>16.6</td>\n",
              "      <td>28.0</td>\n",
              "      <td>6.55</td>\n",
              "      <td>48.6</td>\n",
              "      <td>9930</td>\n",
              "      <td>4.49</td>\n",
              "      <td>76.3</td>\n",
              "      <td>1.65</td>\n",
              "      <td>4090</td>\n",
              "    </tr>\n",
              "    <tr>\n",
              "      <th>2</th>\n",
              "      <td>Algeria</td>\n",
              "      <td>27.3</td>\n",
              "      <td>38.4</td>\n",
              "      <td>4.17</td>\n",
              "      <td>31.4</td>\n",
              "      <td>12900</td>\n",
              "      <td>16.10</td>\n",
              "      <td>76.5</td>\n",
              "      <td>2.89</td>\n",
              "      <td>4460</td>\n",
              "    </tr>\n",
              "    <tr>\n",
              "      <th>3</th>\n",
              "      <td>Angola</td>\n",
              "      <td>119.0</td>\n",
              "      <td>62.3</td>\n",
              "      <td>2.85</td>\n",
              "      <td>42.9</td>\n",
              "      <td>5900</td>\n",
              "      <td>22.40</td>\n",
              "      <td>60.1</td>\n",
              "      <td>6.16</td>\n",
              "      <td>3530</td>\n",
              "    </tr>\n",
              "    <tr>\n",
              "      <th>4</th>\n",
              "      <td>Antigua and Barbuda</td>\n",
              "      <td>10.3</td>\n",
              "      <td>45.5</td>\n",
              "      <td>6.03</td>\n",
              "      <td>58.9</td>\n",
              "      <td>19100</td>\n",
              "      <td>1.44</td>\n",
              "      <td>76.8</td>\n",
              "      <td>2.13</td>\n",
              "      <td>12200</td>\n",
              "    </tr>\n",
              "  </tbody>\n",
              "</table>\n",
              "</div>"
            ],
            "text/plain": [
              "               country  child_mort  exports  ...  life_expec  total_fer   gdpp\n",
              "0          Afghanistan        90.2     10.0  ...        56.2       5.82    553\n",
              "1              Albania        16.6     28.0  ...        76.3       1.65   4090\n",
              "2              Algeria        27.3     38.4  ...        76.5       2.89   4460\n",
              "3               Angola       119.0     62.3  ...        60.1       6.16   3530\n",
              "4  Antigua and Barbuda        10.3     45.5  ...        76.8       2.13  12200\n",
              "\n",
              "[5 rows x 10 columns]"
            ]
          },
          "metadata": {
            "tags": []
          },
          "execution_count": 5
        }
      ]
    },
    {
      "cell_type": "code",
      "metadata": {
        "colab": {
          "base_uri": "https://localhost:8080/"
        },
        "id": "gh0WdmyR13BU",
        "outputId": "4787f2f0-a781-4e59-afde-3bb238b98f4d"
      },
      "source": [
        "X = df_country.iloc[:,1:]\n",
        "X.columns"
      ],
      "execution_count": null,
      "outputs": [
        {
          "output_type": "execute_result",
          "data": {
            "text/plain": [
              "Index(['child_mort', 'exports', 'health', 'imports', 'income', 'inflation',\n",
              "       'life_expec', 'total_fer', 'gdpp'],\n",
              "      dtype='object')"
            ]
          },
          "metadata": {
            "tags": []
          },
          "execution_count": 27
        }
      ]
    },
    {
      "cell_type": "code",
      "metadata": {
        "colab": {
          "base_uri": "https://localhost:8080/"
        },
        "id": "wVP4-RKU3SEU",
        "outputId": "1a034939-352f-4bf5-8bbc-05852ac56315"
      },
      "source": [
        "kmeans = cluster.KMeans(n_clusters=3)\n",
        "kmeans.fit(X)"
      ],
      "execution_count": null,
      "outputs": [
        {
          "output_type": "execute_result",
          "data": {
            "text/plain": [
              "KMeans(algorithm='auto', copy_x=True, init='k-means++', max_iter=300,\n",
              "       n_clusters=3, n_init=10, n_jobs=None, precompute_distances='auto',\n",
              "       random_state=None, tol=0.0001, verbose=0)"
            ]
          },
          "metadata": {
            "tags": []
          },
          "execution_count": 28
        }
      ]
    },
    {
      "cell_type": "code",
      "metadata": {
        "colab": {
          "base_uri": "https://localhost:8080/"
        },
        "id": "qgMbrVl83XvT",
        "outputId": "7bf12a1e-4be9-4cb9-9084-e01e98aa2ae4"
      },
      "source": [
        "kmeans.labels_"
      ],
      "execution_count": null,
      "outputs": [
        {
          "output_type": "execute_result",
          "data": {
            "text/plain": [
              "array([0, 0, 0, 0, 0, 0, 0, 1, 1, 0, 1, 1, 0, 0, 0, 1, 0, 0, 0, 0, 0, 0,\n",
              "       0, 2, 0, 0, 0, 0, 0, 1, 0, 0, 0, 0, 0, 0, 0, 0, 0, 0, 0, 0, 1, 1,\n",
              "       1, 0, 0, 0, 0, 1, 0, 0, 0, 1, 1, 0, 0, 0, 1, 0, 1, 0, 0, 0, 0, 0,\n",
              "       0, 0, 1, 0, 0, 0, 0, 1, 1, 1, 0, 1, 0, 0, 0, 0, 2, 0, 0, 0, 0, 0,\n",
              "       0, 0, 0, 2, 0, 0, 0, 0, 0, 0, 1, 0, 0, 0, 0, 0, 0, 0, 0, 0, 0, 0,\n",
              "       1, 1, 0, 0, 2, 1, 0, 0, 0, 0, 0, 0, 1, 2, 0, 0, 0, 0, 1, 0, 0, 0,\n",
              "       0, 2, 0, 1, 0, 0, 1, 1, 0, 0, 0, 0, 1, 2, 0, 0, 0, 0, 0, 0, 0, 0,\n",
              "       0, 0, 0, 1, 1, 1, 0, 0, 0, 0, 0, 0, 0], dtype=int32)"
            ]
          },
          "metadata": {
            "tags": []
          },
          "execution_count": 29
        }
      ]
    },
    {
      "cell_type": "code",
      "metadata": {
        "id": "SXias8Dy5IFf"
      },
      "source": [
        "scaler = StandardScaler()\n",
        "X_scaled = scaler.fit_transform(X)"
      ],
      "execution_count": null,
      "outputs": []
    },
    {
      "cell_type": "markdown",
      "metadata": {
        "id": "T9V5Om9ADYIs"
      },
      "source": [
        "### I chose PCA with only 4 components because `explained_variance_ratio` for other features was too low."
      ]
    },
    {
      "cell_type": "code",
      "metadata": {
        "colab": {
          "base_uri": "https://localhost:8080/"
        },
        "id": "ZbCccKCR5yr3",
        "outputId": "abc3e16a-4ee6-432e-bc21-bd70eb25826a"
      },
      "source": [
        "pca = PCA(n_components=4)\n",
        "X_pca = pca.fit_transform(X_scaled)\n",
        "pca.explained_variance_ratio_"
      ],
      "execution_count": null,
      "outputs": [
        {
          "output_type": "execute_result",
          "data": {
            "text/plain": [
              "array([0.4595174 , 0.17181626, 0.13004259, 0.11053162])"
            ]
          },
          "metadata": {
            "tags": []
          },
          "execution_count": 33
        }
      ]
    },
    {
      "cell_type": "code",
      "metadata": {
        "colab": {
          "base_uri": "https://localhost:8080/"
        },
        "id": "4gRY4dDu3zFj",
        "outputId": "78b227e2-bdff-44be-f7cc-b3d93f1208b4"
      },
      "source": [
        "kmeans1 = cluster.KMeans(n_clusters=3)\n",
        "kmeans1.fit(X_pca)"
      ],
      "execution_count": null,
      "outputs": [
        {
          "output_type": "execute_result",
          "data": {
            "text/plain": [
              "KMeans(algorithm='auto', copy_x=True, init='k-means++', max_iter=300,\n",
              "       n_clusters=3, n_init=10, n_jobs=None, precompute_distances='auto',\n",
              "       random_state=None, tol=0.0001, verbose=0)"
            ]
          },
          "metadata": {
            "tags": []
          },
          "execution_count": 38
        }
      ]
    },
    {
      "cell_type": "code",
      "metadata": {
        "colab": {
          "base_uri": "https://localhost:8080/"
        },
        "id": "eXclCIbi4TRX",
        "outputId": "a486ff48-a2b0-4c20-9d7f-8e27b9cef84e"
      },
      "source": [
        "kmeans1.labels_"
      ],
      "execution_count": null,
      "outputs": [
        {
          "output_type": "execute_result",
          "data": {
            "text/plain": [
              "array([1, 0, 0, 1, 0, 0, 0, 2, 2, 0, 0, 0, 0, 0, 0, 2, 0, 1, 0, 0, 0, 1,\n",
              "       0, 2, 0, 1, 1, 0, 1, 2, 0, 1, 1, 0, 0, 0, 1, 1, 1, 0, 1, 0, 2, 2,\n",
              "       2, 0, 0, 0, 0, 1, 1, 0, 0, 2, 2, 1, 1, 0, 2, 1, 2, 0, 0, 1, 1, 0,\n",
              "       1, 0, 2, 0, 0, 0, 1, 2, 2, 2, 0, 2, 0, 0, 1, 1, 2, 0, 1, 0, 0, 1,\n",
              "       1, 0, 0, 2, 0, 1, 1, 0, 0, 1, 2, 1, 0, 0, 0, 0, 0, 0, 1, 0, 1, 0,\n",
              "       2, 2, 1, 1, 2, 0, 1, 0, 0, 0, 0, 0, 2, 2, 0, 0, 1, 0, 0, 1, 0, 0,\n",
              "       1, 2, 2, 2, 1, 1, 2, 2, 0, 0, 1, 0, 2, 2, 0, 1, 0, 1, 1, 0, 0, 0,\n",
              "       0, 1, 0, 2, 2, 2, 0, 0, 0, 0, 0, 1, 1], dtype=int32)"
            ]
          },
          "metadata": {
            "tags": []
          },
          "execution_count": 42
        }
      ]
    },
    {
      "cell_type": "code",
      "metadata": {
        "id": "5DD2-bk48l0-"
      },
      "source": [
        "label = ['under-developing country' if l==0 else 'developing country' if l==1 \n",
        "         else 'developed country' for l in kmeans1.labels_]"
      ],
      "execution_count": null,
      "outputs": []
    },
    {
      "cell_type": "code",
      "metadata": {
        "id": "TiFqRWHd8c94"
      },
      "source": [
        "df_result = pd.DataFrame({'country': df_country['country'], 'label': label})"
      ],
      "execution_count": null,
      "outputs": []
    },
    {
      "cell_type": "code",
      "metadata": {
        "id": "lmv-w--S9Tzp"
      },
      "source": [
        "df_result.to_csv('result.csv', index=False)"
      ],
      "execution_count": null,
      "outputs": []
    },
    {
      "cell_type": "code",
      "metadata": {
        "colab": {
          "base_uri": "https://localhost:8080/"
        },
        "id": "c7EwEa7SCPEj",
        "outputId": "9fa0ba18-53ae-43f3-dfa9-0b1346922088"
      },
      "source": [
        "df_result['label'].value_counts()"
      ],
      "execution_count": null,
      "outputs": [
        {
          "output_type": "execute_result",
          "data": {
            "text/plain": [
              "under-developing country    84\n",
              "developing country          48\n",
              "developed country           35\n",
              "Name: label, dtype: int64"
            ]
          },
          "metadata": {
            "tags": []
          },
          "execution_count": 55
        }
      ]
    },
    {
      "cell_type": "code",
      "metadata": {
        "colab": {
          "base_uri": "https://localhost:8080/"
        },
        "id": "KqFEbmP4CWUV",
        "outputId": "c530a840-c80a-4cd5-cfe1-c754b19a2f31"
      },
      "source": [
        "print('Developed Countries')\n",
        "df_result.loc[df_result['label'] == 'developed country', 'country']"
      ],
      "execution_count": null,
      "outputs": [
        {
          "output_type": "stream",
          "text": [
            "Developed Countries\n"
          ],
          "name": "stdout"
        },
        {
          "output_type": "execute_result",
          "data": {
            "text/plain": [
              "7                 Australia\n",
              "8                   Austria\n",
              "15                  Belgium\n",
              "23                   Brunei\n",
              "29                   Canada\n",
              "42                   Cyprus\n",
              "43           Czech Republic\n",
              "44                  Denmark\n",
              "53                  Finland\n",
              "54                   France\n",
              "58                  Germany\n",
              "60                   Greece\n",
              "68                  Iceland\n",
              "73                  Ireland\n",
              "74                   Israel\n",
              "75                    Italy\n",
              "77                    Japan\n",
              "82                   Kuwait\n",
              "91               Luxembourg\n",
              "98                    Malta\n",
              "110             Netherlands\n",
              "111             New Zealand\n",
              "114                  Norway\n",
              "122                Portugal\n",
              "123                   Qatar\n",
              "133               Singapore\n",
              "134         Slovak Republic\n",
              "135                Slovenia\n",
              "138             South Korea\n",
              "139                   Spain\n",
              "144                  Sweden\n",
              "145             Switzerland\n",
              "157    United Arab Emirates\n",
              "158          United Kingdom\n",
              "159           United States\n",
              "Name: country, dtype: object"
            ]
          },
          "metadata": {
            "tags": []
          },
          "execution_count": 60
        }
      ]
    },
    {
      "cell_type": "code",
      "metadata": {
        "colab": {
          "base_uri": "https://localhost:8080/"
        },
        "id": "5BjF0dy7C5eP",
        "outputId": "2408f051-e5ea-4b01-827c-bef7ca88f1f8"
      },
      "source": [
        "print('Developing Countries')\n",
        "df_result.loc[df_result['label'] == 'developing country', 'country']"
      ],
      "execution_count": null,
      "outputs": [
        {
          "output_type": "stream",
          "text": [
            "Developing Countries\n"
          ],
          "name": "stdout"
        },
        {
          "output_type": "execute_result",
          "data": {
            "text/plain": [
              "0                   Afghanistan\n",
              "3                        Angola\n",
              "17                        Benin\n",
              "21                     Botswana\n",
              "25                 Burkina Faso\n",
              "26                      Burundi\n",
              "28                     Cameroon\n",
              "31     Central African Republic\n",
              "32                         Chad\n",
              "36                      Comoros\n",
              "37             Congo, Dem. Rep.\n",
              "38                  Congo, Rep.\n",
              "40                Cote d'Ivoire\n",
              "49            Equatorial Guinea\n",
              "50                      Eritrea\n",
              "55                        Gabon\n",
              "56                       Gambia\n",
              "59                        Ghana\n",
              "63                       Guinea\n",
              "64                Guinea-Bissau\n",
              "66                        Haiti\n",
              "72                         Iraq\n",
              "80                        Kenya\n",
              "81                     Kiribati\n",
              "84                          Lao\n",
              "87                      Lesotho\n",
              "88                      Liberia\n",
              "93                   Madagascar\n",
              "94                       Malawi\n",
              "97                         Mali\n",
              "99                   Mauritania\n",
              "106                  Mozambique\n",
              "108                     Namibia\n",
              "112                       Niger\n",
              "113                     Nigeria\n",
              "116                    Pakistan\n",
              "126                      Rwanda\n",
              "129                     Senegal\n",
              "132                Sierra Leone\n",
              "136             Solomon Islands\n",
              "137                South Africa\n",
              "142                       Sudan\n",
              "147                    Tanzania\n",
              "149                 Timor-Leste\n",
              "150                        Togo\n",
              "155                      Uganda\n",
              "165                       Yemen\n",
              "166                      Zambia\n",
              "Name: country, dtype: object"
            ]
          },
          "metadata": {
            "tags": []
          },
          "execution_count": 61
        }
      ]
    },
    {
      "cell_type": "code",
      "metadata": {
        "colab": {
          "base_uri": "https://localhost:8080/"
        },
        "id": "SipD7X-9DE-N",
        "outputId": "5bb8f1fa-a2e3-48aa-e468-9b03ca65bb63"
      },
      "source": [
        "print('Under Developing Countries')\n",
        "df_result.loc[df_result['label'] == 'under-developing country', 'country']"
      ],
      "execution_count": null,
      "outputs": [
        {
          "output_type": "stream",
          "text": [
            "Under Developing Countries\n"
          ],
          "name": "stdout"
        },
        {
          "output_type": "execute_result",
          "data": {
            "text/plain": [
              "1                  Albania\n",
              "2                  Algeria\n",
              "4      Antigua and Barbuda\n",
              "5                Argentina\n",
              "6                  Armenia\n",
              "              ...         \n",
              "160                Uruguay\n",
              "161             Uzbekistan\n",
              "162                Vanuatu\n",
              "163              Venezuela\n",
              "164                Vietnam\n",
              "Name: country, Length: 84, dtype: object"
            ]
          },
          "metadata": {
            "tags": []
          },
          "execution_count": 62
        }
      ]
    }
  ]
}