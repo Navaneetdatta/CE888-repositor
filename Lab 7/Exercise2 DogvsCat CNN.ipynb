{
  "nbformat": 4,
  "nbformat_minor": 0,
  "metadata": {
    "colab": {
      "name": "Exercise2_DogvsCat_CNN.ipynb",
      "provenance": [],
      "collapsed_sections": [],
      "include_colab_link": true
    },
    "kernelspec": {
      "name": "python3",
      "display_name": "Python 3"
    },
    "accelerator": "GPU"
  },
  "cells": [
    {
      "cell_type": "markdown",
      "metadata": {
        "id": "view-in-github",
        "colab_type": "text"
      },
      "source": [
        "<a href=\"https://colab.research.google.com/github/Navaneetdatta/CE888-repositor/blob/main/Lab%207/Exercise2%20DogvsCat%20CNN.ipynb\" target=\"_parent\"><img src=\"https://colab.research.google.com/assets/colab-badge.svg\" alt=\"Open In Colab\"/></a>"
      ]
    },
    {
      "cell_type": "markdown",
      "metadata": {
        "id": "qTh9DiKVslsJ"
      },
      "source": [
        "## Dogs vs. Cats \n",
        "\n",
        "In this competition, you'll write an algorithm to classify whether images contain either a dog or a cat.  This is easy for humans, dogs, and cats. Your computer will find it a bit more difficult.\n",
        "\n",
        "![alt text](https://miro.medium.com/max/3000/1*bhFifratH9DjKqMBTeQG5A.gif)\n",
        "\n",
        "Ref: https://medium.com/@thegrigorian/rolling-in-the-deep-cnn-c8d3f7108c8c"
      ]
    },
    {
      "cell_type": "markdown",
      "metadata": {
        "id": "RSBI-_mSSY1g"
      },
      "source": [
        "Get your API Key from Kaggle using following steps:\n",
        "1. Login to [Kaggle](https://www.kaggle.com/) or Register if you don't have account\n",
        "2. Open Dataset (https://www.kaggle.com/c/dogs-vs-cats/rules) and accept terms and condition. \n",
        "3. On the top right corner click on your Icon and go to accounts and press a button \"Create New API Token\". It will download a JSON file containing your username and key. \n",
        "4. Now, paste both below. \n"
      ]
    },
    {
      "cell_type": "code",
      "metadata": {
        "id": "YmXSOc0tZIGA",
        "colab": {
          "base_uri": "https://localhost:8080/"
        },
        "outputId": "78ad34aa-5e52-4b1e-f4cf-692d01b712e0"
      },
      "source": [
        "import os\n",
        "os.environ['KAGGLE_USERNAME'] = \"ananyad\" # username from the json file\n",
        "os.environ['KAGGLE_KEY'] = \"e881ad4c2ed61ce256d80465bb5b8dd0\" # key from the json file\n",
        "!kaggle competitions download -c dogs-vs-cats # api copied from kaggle (https://www.kaggle.com/c/dogs-vs-cats/data)"
      ],
      "execution_count": null,
      "outputs": [
        {
          "output_type": "stream",
          "text": [
            "Downloading dogs-vs-cats.zip to /content\n",
            " 97% 788M/812M [00:03<00:00, 233MB/s]\n",
            "100% 812M/812M [00:03<00:00, 226MB/s]\n"
          ],
          "name": "stdout"
        }
      ]
    },
    {
      "cell_type": "code",
      "metadata": {
        "colab": {
          "base_uri": "https://localhost:8080/"
        },
        "id": "NtUYj7qXvkzs",
        "outputId": "af285d25-093b-4ccd-b53a-81bde937fb17"
      },
      "source": [
        "!cd \"/content/\"\n",
        "!ls -l"
      ],
      "execution_count": null,
      "outputs": [
        {
          "output_type": "stream",
          "text": [
            "total 1666268\n",
            "-rw-r--r-- 1 root root 851576689 May  4 18:56 dogs-vs-cats.zip\n",
            "drwxr-xr-x 1 root root      4096 Apr 21 13:39 sample_data\n",
            "-rw-r--r-- 1 root root     88903 May  4 18:58 sampleSubmission.csv\n",
            "-rw-r--r-- 1 root root 284321224 May  4 18:58 test1.zip\n",
            "drwxr-xr-x 2 root root    704512 May  4 18:59 train\n",
            "-rw-r--r-- 1 root root 569546721 May  4 18:58 train.zip\n"
          ],
          "name": "stdout"
        }
      ]
    },
    {
      "cell_type": "code",
      "metadata": {
        "id": "PiwIL8d1n7eS",
        "colab": {
          "base_uri": "https://localhost:8080/"
        },
        "outputId": "bac7143e-5533-4c75-c8fb-8913c21745de"
      },
      "source": [
        "# Unzip training data\n",
        "from zipfile import ZipFile\n",
        "file_name = \"/content/train.zip\"\n",
        "with ZipFile(file_name, 'r') as zip:\n",
        "  zip.extractall()\n",
        "  print('done')"
      ],
      "execution_count": null,
      "outputs": [
        {
          "output_type": "stream",
          "text": [
            "done\n"
          ],
          "name": "stdout"
        }
      ]
    },
    {
      "cell_type": "code",
      "metadata": {
        "id": "sa2Bj5i7pPKV",
        "colab": {
          "base_uri": "https://localhost:8080/"
        },
        "outputId": "912ef914-e3ac-4cb1-9937-605c4f3ad9d2"
      },
      "source": [
        "# Get all the paths\n",
        "data_dir_list = os.listdir('/content/train')\n",
        "#print(data_dir_list)\n",
        "path, dirs, files = next(os.walk(\"/content/train\"))\n",
        "file_count = len(files)\n",
        "print(file_count)"
      ],
      "execution_count": null,
      "outputs": [
        {
          "output_type": "stream",
          "text": [
            "25000\n"
          ],
          "name": "stdout"
        }
      ]
    },
    {
      "cell_type": "code",
      "metadata": {
        "id": "0ERlHkfHqpK8"
      },
      "source": [
        "# Make new base directory\n",
        "original_dataset_dir = '/content/train'\n",
        "base_dir = '/content/cats_and_dogs_small'\n",
        "os.mkdir(base_dir)"
      ],
      "execution_count": null,
      "outputs": []
    },
    {
      "cell_type": "code",
      "metadata": {
        "id": "AANB1UJ6rQhM"
      },
      "source": [
        "train_dir = os.path.join(base_dir, 'train')\n",
        "os.mkdir(train_dir)\n",
        "\n",
        "validation_dir = os.path.join(base_dir, 'validation')\n",
        "os.mkdir(validation_dir)\n",
        "\n",
        "test_dir = os.path.join(base_dir, 'test')\n",
        "os.mkdir(test_dir)\n",
        "\n",
        "train_cats_dir = os.path.join(train_dir, 'cats')\n",
        "os.mkdir(train_cats_dir)\n",
        "\n",
        "train_dogs_dir = os.path.join(train_dir, 'dogs')\n",
        "os.mkdir(train_dogs_dir)\n",
        "\n",
        "validation_cats_dir = os.path.join(validation_dir, 'cats')\n",
        "os.mkdir(validation_cats_dir)\n",
        "\n",
        "validation_dogs_dir = os.path.join(validation_dir, 'dogs')\n",
        "os.mkdir(validation_dogs_dir)\n",
        "\n",
        "test_cats_dir = os.path.join(test_dir, 'cats')\n",
        "os.mkdir(test_cats_dir)\n",
        "\n",
        "test_dogs_dir = os.path.join(test_dir, 'dogs')\n",
        "os.mkdir(test_dogs_dir)"
      ],
      "execution_count": null,
      "outputs": []
    },
    {
      "cell_type": "code",
      "metadata": {
        "id": "ULRgL9s9rV8T"
      },
      "source": [
        "import shutil\n",
        "fnames = ['cat.{}.jpg'.format(i) for i in range(1000)]\n",
        "for fname in fnames:\n",
        "    src = os.path.join(original_dataset_dir, fname)\n",
        "    dst = os.path.join(train_cats_dir, fname)\n",
        "    #print(src,dst)\n",
        "    shutil.copyfile(src, dst)\n",
        "    \n",
        "fnames = ['cat.{}.jpg'.format(i) for i in range(1000, 1500)]\n",
        "for fname in fnames:\n",
        "    src = os.path.join(original_dataset_dir, fname)\n",
        "    dst = os.path.join(validation_cats_dir, fname)\n",
        "    shutil.copyfile(src, dst)\n",
        "\n",
        "fnames = ['cat.{}.jpg'.format(i) for i in range(1500, 2000)]\n",
        "for fname in fnames:\n",
        "    src = os.path.join(original_dataset_dir, fname)\n",
        "    dst = os.path.join(test_cats_dir, fname)\n",
        "    shutil.copyfile(src, dst)\n",
        "    \n",
        "fnames = ['dog.{}.jpg'.format(i) for i in range(1000)]\n",
        "for fname in fnames:\n",
        "    src = os.path.join(original_dataset_dir, fname)\n",
        "    dst = os.path.join(train_dogs_dir, fname)\n",
        "    shutil.copyfile(src, dst)\n",
        "\n",
        "fnames = ['dog.{}.jpg'.format(i) for i in range(1000, 1500)]\n",
        "for fname in fnames:\n",
        "    src = os.path.join(original_dataset_dir, fname)\n",
        "    dst = os.path.join(validation_dogs_dir, fname)\n",
        "    shutil.copyfile(src, dst)\n",
        "\n",
        "fnames = ['dog.{}.jpg'.format(i) for i in range(1500, 2000)]\n",
        "for fname in fnames:\n",
        "    src = os.path.join(original_dataset_dir, fname)\n",
        "    dst = os.path.join(test_dogs_dir, fname)\n",
        "    shutil.copyfile(src, dst)"
      ],
      "execution_count": null,
      "outputs": []
    },
    {
      "cell_type": "code",
      "metadata": {
        "id": "ul3XAbIyr7vC",
        "colab": {
          "base_uri": "https://localhost:8080/"
        },
        "outputId": "9e627f92-2b4d-405d-f652-31adf130a169"
      },
      "source": [
        "print('total training cat images:', len(os.listdir(train_cats_dir)))\n",
        "print('total training dog images:', len(os.listdir(train_dogs_dir)))\n",
        "print('total validation cat images:', len(os.listdir(validation_cats_dir)))\n",
        "\n",
        "print('total validation dog images:', len(os.listdir(validation_dogs_dir)))\n",
        "print('total test cat images:', len(os.listdir(test_cats_dir)))\n",
        "print('total test dog images:', len(os.listdir(test_dogs_dir)))"
      ],
      "execution_count": null,
      "outputs": [
        {
          "output_type": "stream",
          "text": [
            "total training cat images: 1000\n",
            "total training dog images: 1000\n",
            "total validation cat images: 500\n",
            "total validation dog images: 500\n",
            "total test cat images: 500\n",
            "total test dog images: 500\n"
          ],
          "name": "stdout"
        }
      ]
    },
    {
      "cell_type": "code",
      "metadata": {
        "id": "o9yTA21_r-ma",
        "colab": {
          "base_uri": "https://localhost:8080/"
        },
        "outputId": "c66bdb0a-d729-408d-df4b-e875e188dcf2"
      },
      "source": [
        "from keras import layers\n",
        "from keras import models\n",
        "\n",
        "model = models.Sequential()\n",
        "model.add(layers.Conv2D(32, (3, 3), activation='relu', input_shape=(150, 150, 3)))\n",
        "model.add(layers.MaxPooling2D((2, 2)))\n",
        "model.add(layers.Conv2D(64, (3, 3), activation='relu'))\n",
        "model.add(layers.MaxPooling2D((2, 2)))\n",
        "model.add(layers.Conv2D(128, (3, 3), activation='relu'))\n",
        "model.add(layers.MaxPooling2D((2, 2)))\n",
        "model.add(layers.Conv2D(128, (3, 3), activation='relu'))\n",
        "model.add(layers.MaxPooling2D((2, 2)))\n",
        "model.add(layers.Flatten())\n",
        "model.add(layers.Dense(512, activation='relu'))\n",
        "model.add(layers.Dense(1, activation='sigmoid'))\n",
        "model.summary()"
      ],
      "execution_count": null,
      "outputs": [
        {
          "output_type": "stream",
          "text": [
            "Model: \"sequential\"\n",
            "_________________________________________________________________\n",
            "Layer (type)                 Output Shape              Param #   \n",
            "=================================================================\n",
            "conv2d (Conv2D)              (None, 148, 148, 32)      896       \n",
            "_________________________________________________________________\n",
            "max_pooling2d (MaxPooling2D) (None, 74, 74, 32)        0         \n",
            "_________________________________________________________________\n",
            "conv2d_1 (Conv2D)            (None, 72, 72, 64)        18496     \n",
            "_________________________________________________________________\n",
            "max_pooling2d_1 (MaxPooling2 (None, 36, 36, 64)        0         \n",
            "_________________________________________________________________\n",
            "conv2d_2 (Conv2D)            (None, 34, 34, 128)       73856     \n",
            "_________________________________________________________________\n",
            "max_pooling2d_2 (MaxPooling2 (None, 17, 17, 128)       0         \n",
            "_________________________________________________________________\n",
            "conv2d_3 (Conv2D)            (None, 15, 15, 128)       147584    \n",
            "_________________________________________________________________\n",
            "max_pooling2d_3 (MaxPooling2 (None, 7, 7, 128)         0         \n",
            "_________________________________________________________________\n",
            "flatten (Flatten)            (None, 6272)              0         \n",
            "_________________________________________________________________\n",
            "dense (Dense)                (None, 512)               3211776   \n",
            "_________________________________________________________________\n",
            "dense_1 (Dense)              (None, 1)                 513       \n",
            "=================================================================\n",
            "Total params: 3,453,121\n",
            "Trainable params: 3,453,121\n",
            "Non-trainable params: 0\n",
            "_________________________________________________________________\n"
          ],
          "name": "stdout"
        }
      ]
    },
    {
      "cell_type": "code",
      "metadata": {
        "id": "2mG8wekxsBVS"
      },
      "source": [
        "from keras import optimizers\n",
        "model.compile(loss='binary_crossentropy', \n",
        "              optimizer=optimizers.RMSprop(lr=1e-4),\n",
        "              metrics=['acc'])"
      ],
      "execution_count": null,
      "outputs": []
    },
    {
      "cell_type": "markdown",
      "metadata": {
        "id": "7zS4Klm8qWp6"
      },
      "source": [
        "## Using ImageDataGenerator to read images from directories\n",
        "As you know by now, data should be formatted into appropriately preprocessed floatingpoint tensors before being fed into the network. Currently, the data sits on a drive as JPEG files, so the steps for getting it into the network are roughly as follows:\n",
        "\n",
        "* Read the picture files.\n",
        "* Decode the JPEG content to RGB grids of pixels.\n",
        "* Convert these into floating-point tensors.\n",
        "* Rescale the pixel values (between 0 and 255) to the [0, 1] interval (as you know, neural networks prefer to deal with small input values).\n",
        "\n",
        "It may seem a bit daunting, but fortunately Keras has utilities to take care of these steps automatically. Keras has a module with image-processing helper tools, located at keras.preprocessing.image. In particular, it contains the class ImageDataGenerator,which lets you quickly set up Python generators that can automatically turn image files on disk into batches of preprocessed tensors."
      ]
    },
    {
      "cell_type": "code",
      "metadata": {
        "id": "XJ7XU7t9sEh6",
        "colab": {
          "base_uri": "https://localhost:8080/"
        },
        "outputId": "924facd5-0df7-4498-b0bf-a94d5b790636"
      },
      "source": [
        "from keras.preprocessing.image import ImageDataGenerator\n",
        "\n",
        "train_datagen = ImageDataGenerator(rescale=1./255)\n",
        "test_datagen = ImageDataGenerator(rescale=1./255)\n",
        "\n",
        "train_generator = train_datagen.flow_from_directory(train_dir,\n",
        "                                                    target_size=(150, 150), \n",
        "                                                    batch_size=20,\n",
        "                                                    class_mode='binary')\n",
        "\n",
        "validation_generator = test_datagen.flow_from_directory(validation_dir,\n",
        "                                                        target_size=(150, 150),\n",
        "                                                        batch_size=20,\n",
        "                                                        class_mode='binary')"
      ],
      "execution_count": null,
      "outputs": [
        {
          "output_type": "stream",
          "text": [
            "Found 2000 images belonging to 2 classes.\n",
            "Found 1000 images belonging to 2 classes.\n"
          ],
          "name": "stdout"
        }
      ]
    },
    {
      "cell_type": "markdown",
      "metadata": {
        "id": "SEgLywySqm4u"
      },
      "source": [
        "Let’s fit the model to the data using the generator. You do so using the fit_generator method, the equivalent of fit for data generators like this one. It expects as its first argument a Python generator that will yield batches of inputs and targets indefinitely,like this one does. Because the data is being generated endlessly, the Keras model needs to know how many samples to draw from the generator before declaring anepoch over. This is the role of the `steps_per_epoch` argument: after having drawn `steps_per_epoch` batches from the generator—that is, after having run for `steps_per_epoch` gradient descent steps—the fitting process will go to the next epoch. In this case, batches are 20 samples, so it will take 100 batches until you see your target of 2,000 samples.\n",
        "\n",
        "When using fit_generator, you can pass a validation_data argument, much as with the fit method. It’s important to note that this argument is allowed to be a data generator, but it could also be a tuple of Numpy arrays. If you pass a generator as validation_data, then this generator is expected to yield batches of validation data endlessly; thus you should also specify the validation_steps argument, which tells the process how many batches to draw from the validation generator for evaluation."
      ]
    },
    {
      "cell_type": "code",
      "metadata": {
        "id": "yMyfPphJsJG6",
        "colab": {
          "base_uri": "https://localhost:8080/"
        },
        "outputId": "c78757b5-4748-492f-df03-fba28b2e18a1"
      },
      "source": [
        "history = model.fit_generator(train_generator,\n",
        "                              steps_per_epoch=100,\n",
        "                              epochs=30,\n",
        "                              validation_data=validation_generator,\n",
        "                              validation_steps=10)"
      ],
      "execution_count": null,
      "outputs": [
        {
          "output_type": "stream",
          "text": [
            "/usr/local/lib/python3.7/dist-packages/tensorflow/python/keras/engine/training.py:1844: UserWarning: `Model.fit_generator` is deprecated and will be removed in a future version. Please use `Model.fit`, which supports generators.\n",
            "  warnings.warn('`Model.fit_generator` is deprecated and '\n"
          ],
          "name": "stderr"
        },
        {
          "output_type": "stream",
          "text": [
            "Epoch 1/30\n",
            "100/100 [==============================] - 40s 67ms/step - loss: 0.6949 - acc: 0.5192 - val_loss: 0.7192 - val_acc: 0.4850\n",
            "Epoch 2/30\n",
            "100/100 [==============================] - 7s 66ms/step - loss: 0.6638 - acc: 0.6122 - val_loss: 0.6462 - val_acc: 0.6150\n",
            "Epoch 3/30\n",
            "100/100 [==============================] - 7s 65ms/step - loss: 0.6415 - acc: 0.6398 - val_loss: 0.6880 - val_acc: 0.5400\n",
            "Epoch 4/30\n",
            "100/100 [==============================] - 7s 66ms/step - loss: 0.5938 - acc: 0.6860 - val_loss: 0.6079 - val_acc: 0.6400\n",
            "Epoch 5/30\n",
            "100/100 [==============================] - 6s 65ms/step - loss: 0.5633 - acc: 0.7116 - val_loss: 0.6333 - val_acc: 0.6400\n",
            "Epoch 6/30\n",
            "100/100 [==============================] - 7s 65ms/step - loss: 0.5212 - acc: 0.7482 - val_loss: 0.5477 - val_acc: 0.6800\n",
            "Epoch 7/30\n",
            "100/100 [==============================] - 6s 65ms/step - loss: 0.4924 - acc: 0.7681 - val_loss: 0.5748 - val_acc: 0.7150\n",
            "Epoch 8/30\n",
            "100/100 [==============================] - 6s 64ms/step - loss: 0.4514 - acc: 0.7846 - val_loss: 0.5701 - val_acc: 0.6950\n",
            "Epoch 9/30\n",
            "100/100 [==============================] - 6s 64ms/step - loss: 0.4252 - acc: 0.8020 - val_loss: 0.5956 - val_acc: 0.6900\n",
            "Epoch 10/30\n",
            "100/100 [==============================] - 6s 64ms/step - loss: 0.4054 - acc: 0.8161 - val_loss: 0.5886 - val_acc: 0.7150\n",
            "Epoch 11/30\n",
            "100/100 [==============================] - 6s 65ms/step - loss: 0.3936 - acc: 0.8067 - val_loss: 0.6355 - val_acc: 0.6800\n",
            "Epoch 12/30\n",
            "100/100 [==============================] - 6s 64ms/step - loss: 0.3721 - acc: 0.8343 - val_loss: 0.5692 - val_acc: 0.7350\n",
            "Epoch 13/30\n",
            "100/100 [==============================] - 6s 63ms/step - loss: 0.3491 - acc: 0.8408 - val_loss: 0.7304 - val_acc: 0.6650\n",
            "Epoch 14/30\n",
            "100/100 [==============================] - 6s 64ms/step - loss: 0.3329 - acc: 0.8510 - val_loss: 0.7058 - val_acc: 0.6550\n",
            "Epoch 15/30\n",
            "100/100 [==============================] - 6s 64ms/step - loss: 0.3019 - acc: 0.8833 - val_loss: 0.5663 - val_acc: 0.7450\n",
            "Epoch 16/30\n",
            "100/100 [==============================] - 6s 64ms/step - loss: 0.2703 - acc: 0.8825 - val_loss: 0.6082 - val_acc: 0.7550\n",
            "Epoch 17/30\n",
            "100/100 [==============================] - 6s 64ms/step - loss: 0.2713 - acc: 0.8849 - val_loss: 0.5050 - val_acc: 0.7850\n",
            "Epoch 18/30\n",
            "100/100 [==============================] - 6s 63ms/step - loss: 0.2454 - acc: 0.8987 - val_loss: 0.6608 - val_acc: 0.6600\n",
            "Epoch 19/30\n",
            "100/100 [==============================] - 6s 64ms/step - loss: 0.2282 - acc: 0.9158 - val_loss: 0.5534 - val_acc: 0.7450\n",
            "Epoch 20/30\n",
            "100/100 [==============================] - 6s 64ms/step - loss: 0.2067 - acc: 0.9265 - val_loss: 0.5608 - val_acc: 0.7300\n",
            "Epoch 21/30\n",
            "100/100 [==============================] - 6s 65ms/step - loss: 0.1925 - acc: 0.9304 - val_loss: 0.7048 - val_acc: 0.7450\n",
            "Epoch 22/30\n",
            "100/100 [==============================] - 6s 64ms/step - loss: 0.1749 - acc: 0.9383 - val_loss: 0.4924 - val_acc: 0.7850\n",
            "Epoch 23/30\n",
            "100/100 [==============================] - 6s 64ms/step - loss: 0.1614 - acc: 0.9423 - val_loss: 0.6733 - val_acc: 0.7550\n",
            "Epoch 24/30\n",
            "100/100 [==============================] - 6s 64ms/step - loss: 0.1531 - acc: 0.9469 - val_loss: 0.6758 - val_acc: 0.7450\n",
            "Epoch 25/30\n",
            "100/100 [==============================] - 6s 64ms/step - loss: 0.1175 - acc: 0.9593 - val_loss: 0.6458 - val_acc: 0.7750\n",
            "Epoch 26/30\n",
            "100/100 [==============================] - 6s 64ms/step - loss: 0.0948 - acc: 0.9722 - val_loss: 0.6296 - val_acc: 0.7300\n",
            "Epoch 27/30\n",
            "100/100 [==============================] - 6s 64ms/step - loss: 0.0921 - acc: 0.9696 - val_loss: 0.7497 - val_acc: 0.7300\n",
            "Epoch 28/30\n",
            "100/100 [==============================] - 6s 65ms/step - loss: 0.0751 - acc: 0.9741 - val_loss: 0.8185 - val_acc: 0.7500\n",
            "Epoch 29/30\n",
            "100/100 [==============================] - 6s 64ms/step - loss: 0.0745 - acc: 0.9765 - val_loss: 0.8377 - val_acc: 0.7200\n",
            "Epoch 30/30\n",
            "100/100 [==============================] - 7s 65ms/step - loss: 0.0501 - acc: 0.9877 - val_loss: 1.0392 - val_acc: 0.7050\n"
          ],
          "name": "stdout"
        }
      ]
    },
    {
      "cell_type": "code",
      "metadata": {
        "id": "MZaZ2HWZsNUi",
        "colab": {
          "base_uri": "https://localhost:8080/",
          "height": 545
        },
        "outputId": "45508bfb-8181-483a-aef0-b57ae0f2a310"
      },
      "source": [
        "model.save('cats_and_dogs_small_1.h5')\n",
        "\n",
        "import matplotlib.pyplot as plt\n",
        "\n",
        "acc = history.history['acc']\n",
        "val_acc = history.history['val_acc']\n",
        "loss = history.history['loss']\n",
        "val_loss = history.history['val_loss']\n",
        "\n",
        "epochs = range(1, len(acc) + 1)\n",
        "\n",
        "plt.plot(epochs, acc, 'bo', label='Training acc')\n",
        "plt.plot(epochs, val_acc, 'b', label='Validation acc')\n",
        "plt.title('Training and validation accuracy')\n",
        "plt.legend()\n",
        "\n",
        "plt.figure()\n",
        "\n",
        "plt.plot(epochs, loss, 'bo', label='Training loss')\n",
        "plt.plot(epochs, val_loss, 'b', label='Validation loss')\n",
        "plt.title('Training and validation loss')\n",
        "plt.legend()\n",
        "\n",
        "plt.show()"
      ],
      "execution_count": null,
      "outputs": [
        {
          "output_type": "display_data",
          "data": {
            "image/png": "[encoded data removed]",
            "text/plain": [
              "<Figure size 432x288 with 1 Axes>"
            ]
          },
          "metadata": {
            "tags": [],
            "needs_background": "light"
          }
        },
        {
          "output_type": "display_data",
          "data": {
            "image/png": "[encoded data removed]",
            "text/plain": [
              "<Figure size 432x288 with 1 Axes>"
            ]
          },
          "metadata": {
            "tags": [],
            "needs_background": "light"
          }
        }
      ]
    },
    {
      "cell_type": "markdown",
      "metadata": {
        "id": "XKZmXmBcq_8-"
      },
      "source": [
        "## Convolutional Networks with Dropout\n",
        "\n",
        "![alt text](https://camo.githubusercontent.com/ee6fa1073247cd2c3d241300caf110d7a7541bc5/68747470733a2f2f63646e2d696d616765732d312e6d656469756d2e636f6d2f6d61782f3830302f312a4972644a355067684439596f4f7956415137334d4a772e676966)\n",
        "\n",
        "Ref: https://github.com/mneha4/Training-Neural-Nets---Guidelines"
      ]
    },
    {
      "cell_type": "code",
      "metadata": {
        "id": "wu3cqeYQrDeN"
      },
      "source": [
        "model = models.Sequential()\n",
        "model.add(layers.Conv2D(32, (3, 3), activation='relu',\n",
        "input_shape=(150, 150, 3)))\n",
        "model.add(layers.MaxPooling2D((2, 2)))\n",
        "model.add(layers.Conv2D(64, (3, 3), activation='relu'))\n",
        "model.add(layers.MaxPooling2D((2, 2)))\n",
        "model.add(layers.Conv2D(128, (3, 3), activation='relu'))\n",
        "model.add(layers.MaxPooling2D((2, 2)))\n",
        "model.add(layers.Conv2D(128, (3, 3), activation='relu'))\n",
        "model.add(layers.MaxPooling2D((2, 2)))\n",
        "model.add(layers.Flatten())\n",
        "model.add(layers.Dropout(0.5))\n",
        "model.add(layers.Dense(512, activation='relu'))\n",
        "model.add(layers.Dense(1, activation='sigmoid'))\n",
        "\n",
        "model.compile(loss='binary_crossentropy',\n",
        "              optimizer=optimizers.RMSprop(lr=1e-4),\n",
        "              metrics=['acc'])"
      ],
      "execution_count": null,
      "outputs": []
    },
    {
      "cell_type": "code",
      "metadata": {
        "id": "QSeLpvY0rH7F",
        "colab": {
          "base_uri": "https://localhost:8080/"
        },
        "outputId": "9841664d-a288-4aec-8b95-c6ee21fe75e6"
      },
      "source": [
        "\n",
        "train_datagen = ImageDataGenerator(rescale=1./255,\n",
        "                                   rotation_range=40,\n",
        "                                   width_shift_range=0.2,\n",
        "                                   height_shift_range=0.2,\n",
        "                                   shear_range=0.2,\n",
        "                                   zoom_range=0.2,\n",
        "                                   horizontal_flip=True,)\n",
        "\n",
        "test_datagen = ImageDataGenerator(rescale=1./255)\n",
        "\n",
        "train_generator = train_datagen.flow_from_directory(train_dir,\n",
        "                                                    target_size=(150, 150),\n",
        "                                                    batch_size=32,\n",
        "                                                    class_mode='binary')\n",
        "\n",
        "validation_generator = test_datagen.flow_from_directory(validation_dir,\n",
        "                                                        target_size=(150, 150),\n",
        "                                                        batch_size=32,\n",
        "                                                        class_mode='binary')\n",
        "\n",
        "history = model.fit_generator(train_generator,\n",
        "                              steps_per_epoch=100,\n",
        "                              epochs=20,\n",
        "                              validation_data=validation_generator,\n",
        "                              validation_steps=50)"
      ],
      "execution_count": null,
      "outputs": [
        {
          "output_type": "stream",
          "text": [
            "Found 2000 images belonging to 2 classes.\n",
            "Found 1000 images belonging to 2 classes.\n"
          ],
          "name": "stdout"
        },
        {
          "output_type": "stream",
          "text": [
            "/usr/local/lib/python3.7/dist-packages/tensorflow/python/keras/engine/training.py:1844: UserWarning: `Model.fit_generator` is deprecated and will be removed in a future version. Please use `Model.fit`, which supports generators.\n",
            "  warnings.warn('`Model.fit_generator` is deprecated and '\n"
          ],
          "name": "stderr"
        },
        {
          "output_type": "stream",
          "text": [
            "Epoch 1/20\n",
            " 63/100 [=================>............] - ETA: 8s - loss: 0.6932 - acc: 0.5327WARNING:tensorflow:Your input ran out of data; interrupting training. Make sure that your dataset or generator can generate at least `steps_per_epoch * epochs` batches (in this case, 2000 batches). You may need to use the repeat() function when building your dataset.\n",
            "WARNING:tensorflow:Your input ran out of data; interrupting training. Make sure that your dataset or generator can generate at least `steps_per_epoch * epochs` batches (in this case, 50 batches). You may need to use the repeat() function when building your dataset.\n",
            "100/100 [==============================] - 18s 168ms/step - loss: 0.6938 - acc: 0.5254 - val_loss: 0.6907 - val_acc: 0.5160\n"
          ],
          "name": "stdout"
        }
      ]
    },
    {
      "cell_type": "markdown",
      "metadata": {
        "id": "BRdU5yrkUF_b"
      },
      "source": [
        "# Task 2:\n",
        "\n",
        "We have used Dropout to enhance the performance of the CNN model. Can you please use whatever you like to further enhance the performance from `val_acc: 0.7506`? "
      ]
    },
    {
      "cell_type": "code",
      "metadata": {
        "id": "Y1X1TkawHqqm",
        "colab": {
          "base_uri": "https://localhost:8080/"
        },
        "outputId": "deb1a719-a7c7-4b2c-b4b4-738b929bbf28"
      },
      "source": [
        "train_generator = train_datagen.flow_from_directory(train_dir,\n",
        "                                                    target_size=(150, 150),\n",
        "                                                    batch_size=32,\n",
        "                                                    class_mode='binary')\n",
        "\n",
        "validation_generator = test_datagen.flow_from_directory(validation_dir,\n",
        "                                                        target_size=(150, 150),\n",
        "                                                        batch_size=32,\n",
        "                                                        class_mode='binary')\n",
        "\n",
        "model.fit_generator(train_generator,\n",
        "                              steps_per_epoch=1500//32,\n",
        "                              epochs=64,\n",
        "                              validation_data=validation_generator,\n",
        "                              validation_steps=1500//32)\n"
      ],
      "execution_count": null,
      "outputs": [
        {
          "output_type": "stream",
          "text": [
            "Found 2000 images belonging to 2 classes.\n",
            "Found 1000 images belonging to 2 classes.\n"
          ],
          "name": "stdout"
        },
        {
          "output_type": "stream",
          "text": [
            "/usr/local/lib/python3.7/dist-packages/tensorflow/python/keras/engine/training.py:1844: UserWarning: `Model.fit_generator` is deprecated and will be removed in a future version. Please use `Model.fit`, which supports generators.\n",
            "  warnings.warn('`Model.fit_generator` is deprecated and '\n"
          ],
          "name": "stderr"
        },
        {
          "output_type": "stream",
          "text": [
            "Epoch 1/64\n",
            "46/46 [==============================] - ETA: 0s - loss: 0.6923 - acc: 0.5075WARNING:tensorflow:Your input ran out of data; interrupting training. Make sure that your dataset or generator can generate at least `steps_per_epoch * epochs` batches (in this case, 46 batches). You may need to use the repeat() function when building your dataset.\n",
            "46/46 [==============================] - 13s 287ms/step - loss: 0.6923 - acc: 0.5075 - val_loss: 0.6847 - val_acc: 0.5550\n",
            "Epoch 2/64\n",
            "46/46 [==============================] - 10s 224ms/step - loss: 0.6876 - acc: 0.5394\n",
            "Epoch 3/64\n",
            "46/46 [==============================] - 10s 223ms/step - loss: 0.6801 - acc: 0.5501\n",
            "Epoch 4/64\n",
            "46/46 [==============================] - 10s 224ms/step - loss: 0.6778 - acc: 0.5734\n",
            "Epoch 5/64\n",
            "46/46 [==============================] - 10s 223ms/step - loss: 0.6661 - acc: 0.6016\n",
            "Epoch 6/64\n",
            "46/46 [==============================] - 10s 224ms/step - loss: 0.6589 - acc: 0.5962\n",
            "Epoch 7/64\n",
            "46/46 [==============================] - 10s 222ms/step - loss: 0.6512 - acc: 0.6113\n",
            "Epoch 8/64\n",
            "46/46 [==============================] - 10s 224ms/step - loss: 0.6414 - acc: 0.6312\n",
            "Epoch 9/64\n",
            "46/46 [==============================] - 10s 225ms/step - loss: 0.6418 - acc: 0.6175\n",
            "Epoch 10/64\n",
            "46/46 [==============================] - 10s 223ms/step - loss: 0.6442 - acc: 0.6181\n",
            "Epoch 11/64\n",
            "46/46 [==============================] - 10s 224ms/step - loss: 0.6260 - acc: 0.6501\n",
            "Epoch 12/64\n",
            "46/46 [==============================] - 10s 222ms/step - loss: 0.6203 - acc: 0.6621\n",
            "Epoch 13/64\n",
            "46/46 [==============================] - 10s 224ms/step - loss: 0.6100 - acc: 0.6610\n",
            "Epoch 14/64\n",
            "46/46 [==============================] - 10s 221ms/step - loss: 0.6143 - acc: 0.6683\n",
            "Epoch 15/64\n",
            "46/46 [==============================] - 10s 222ms/step - loss: 0.6044 - acc: 0.6793\n",
            "Epoch 16/64\n",
            "46/46 [==============================] - 10s 224ms/step - loss: 0.5941 - acc: 0.6916\n",
            "Epoch 17/64\n",
            "46/46 [==============================] - 10s 224ms/step - loss: 0.5999 - acc: 0.6726\n",
            "Epoch 18/64\n",
            "46/46 [==============================] - 10s 221ms/step - loss: 0.5918 - acc: 0.6758\n",
            "Epoch 19/64\n",
            "46/46 [==============================] - 10s 222ms/step - loss: 0.5922 - acc: 0.6984\n",
            "Epoch 20/64\n",
            "46/46 [==============================] - 10s 221ms/step - loss: 0.5741 - acc: 0.6896\n",
            "Epoch 21/64\n",
            "46/46 [==============================] - 10s 222ms/step - loss: 0.5818 - acc: 0.6834\n",
            "Epoch 22/64\n",
            "46/46 [==============================] - 10s 221ms/step - loss: 0.5849 - acc: 0.6902\n",
            "Epoch 23/64\n",
            "46/46 [==============================] - 10s 222ms/step - loss: 0.5695 - acc: 0.7026\n",
            "Epoch 24/64\n",
            "46/46 [==============================] - 10s 224ms/step - loss: 0.5735 - acc: 0.7024\n",
            "Epoch 25/64\n",
            "46/46 [==============================] - 10s 220ms/step - loss: 0.5593 - acc: 0.7122\n",
            "Epoch 26/64\n",
            "46/46 [==============================] - 10s 223ms/step - loss: 0.5482 - acc: 0.7201\n",
            "Epoch 27/64\n",
            "46/46 [==============================] - 10s 221ms/step - loss: 0.5577 - acc: 0.7205\n",
            "Epoch 28/64\n",
            "46/46 [==============================] - 10s 224ms/step - loss: 0.5518 - acc: 0.7099\n",
            "Epoch 29/64\n",
            "46/46 [==============================] - 10s 223ms/step - loss: 0.5413 - acc: 0.7255\n",
            "Epoch 30/64\n",
            "46/46 [==============================] - 10s 223ms/step - loss: 0.5542 - acc: 0.7242\n",
            "Epoch 31/64\n",
            "46/46 [==============================] - 10s 223ms/step - loss: 0.5624 - acc: 0.7150\n",
            "Epoch 32/64\n",
            "46/46 [==============================] - 10s 225ms/step - loss: 0.5437 - acc: 0.7391\n",
            "Epoch 33/64\n",
            "46/46 [==============================] - 10s 221ms/step - loss: 0.5429 - acc: 0.7260\n",
            "Epoch 34/64\n",
            "46/46 [==============================] - 10s 223ms/step - loss: 0.5473 - acc: 0.7154\n",
            "Epoch 35/64\n",
            "46/46 [==============================] - 10s 221ms/step - loss: 0.5463 - acc: 0.7109\n",
            "Epoch 36/64\n",
            "46/46 [==============================] - 10s 225ms/step - loss: 0.5361 - acc: 0.7276\n",
            "Epoch 37/64\n",
            "46/46 [==============================] - 10s 220ms/step - loss: 0.5426 - acc: 0.7191\n",
            "Epoch 38/64\n",
            "46/46 [==============================] - 10s 222ms/step - loss: 0.5271 - acc: 0.7266\n",
            "Epoch 39/64\n",
            "46/46 [==============================] - 10s 224ms/step - loss: 0.5322 - acc: 0.7370\n",
            "Epoch 40/64\n",
            "46/46 [==============================] - 10s 227ms/step - loss: 0.5211 - acc: 0.7425\n",
            "Epoch 41/64\n",
            "46/46 [==============================] - 10s 222ms/step - loss: 0.5355 - acc: 0.7184\n",
            "Epoch 42/64\n",
            "46/46 [==============================] - 10s 222ms/step - loss: 0.5103 - acc: 0.7500\n",
            "Epoch 43/64\n",
            "46/46 [==============================] - 10s 221ms/step - loss: 0.5284 - acc: 0.7459\n",
            "Epoch 44/64\n",
            "46/46 [==============================] - 10s 220ms/step - loss: 0.5324 - acc: 0.7321\n",
            "Epoch 45/64\n",
            "46/46 [==============================] - 10s 222ms/step - loss: 0.5276 - acc: 0.7315\n",
            "Epoch 46/64\n",
            "46/46 [==============================] - 10s 222ms/step - loss: 0.5115 - acc: 0.7555\n",
            "Epoch 47/64\n",
            "46/46 [==============================] - 10s 223ms/step - loss: 0.5086 - acc: 0.7459\n",
            "Epoch 48/64\n",
            "46/46 [==============================] - 10s 223ms/step - loss: 0.5146 - acc: 0.7412\n",
            "Epoch 49/64\n",
            "46/46 [==============================] - 10s 220ms/step - loss: 0.5107 - acc: 0.7541\n",
            "Epoch 50/64\n",
            "46/46 [==============================] - 10s 224ms/step - loss: 0.4939 - acc: 0.7609\n",
            "Epoch 51/64\n",
            "46/46 [==============================] - 10s 221ms/step - loss: 0.5129 - acc: 0.7479\n",
            "Epoch 52/64\n",
            "46/46 [==============================] - 10s 222ms/step - loss: 0.5142 - acc: 0.7411\n",
            "Epoch 53/64\n",
            "46/46 [==============================] - 10s 221ms/step - loss: 0.5152 - acc: 0.7342\n",
            "Epoch 54/64\n",
            "46/46 [==============================] - 10s 221ms/step - loss: 0.5034 - acc: 0.7582\n",
            "Epoch 55/64\n",
            "46/46 [==============================] - 10s 223ms/step - loss: 0.5047 - acc: 0.7521\n",
            "Epoch 56/64\n",
            "46/46 [==============================] - 10s 221ms/step - loss: 0.4818 - acc: 0.7734\n",
            "Epoch 57/64\n",
            "46/46 [==============================] - 10s 225ms/step - loss: 0.5189 - acc: 0.7398\n",
            "Epoch 58/64\n",
            "46/46 [==============================] - 10s 221ms/step - loss: 0.4756 - acc: 0.7878\n",
            "Epoch 59/64\n",
            "46/46 [==============================] - 10s 220ms/step - loss: 0.4927 - acc: 0.7596\n",
            "Epoch 60/64\n",
            "46/46 [==============================] - 10s 221ms/step - loss: 0.4833 - acc: 0.7685\n",
            "Epoch 61/64\n",
            "46/46 [==============================] - 10s 221ms/step - loss: 0.4772 - acc: 0.7672\n",
            "Epoch 62/64\n",
            "46/46 [==============================] - 10s 224ms/step - loss: 0.4949 - acc: 0.7576\n",
            "Epoch 63/64\n",
            "46/46 [==============================] - 10s 226ms/step - loss: 0.4795 - acc: 0.7697\n",
            "Epoch 64/64\n",
            "46/46 [==============================] - 10s 223ms/step - loss: 0.4912 - acc: 0.7624\n"
          ],
          "name": "stdout"
        },
        {
          "output_type": "execute_result",
          "data": {
            "text/plain": [
              "<tensorflow.python.keras.callbacks.History at 0x7f2b3392ead0>"
            ]
          },
          "metadata": {
            "tags": []
          },
          "execution_count": 42
        }
      ]
    }
  ]
}